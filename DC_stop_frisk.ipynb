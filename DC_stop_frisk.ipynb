{
 "cells": [
  {
   "cell_type": "markdown",
   "metadata": {},
   "source": [
    "## Proposed data for the project: DC stop and frisk incidents\n",
    "\n"
   ]
  },
  {
   "cell_type": "code",
   "execution_count": 1,
   "metadata": {},
   "outputs": [
    {
     "data": {
      "text/html": [
       "<div>\n",
       "<style scoped>\n",
       "    .dataframe tbody tr th:only-of-type {\n",
       "        vertical-align: middle;\n",
       "    }\n",
       "\n",
       "    .dataframe tbody tr th {\n",
       "        vertical-align: top;\n",
       "    }\n",
       "\n",
       "    .dataframe thead th {\n",
       "        text-align: right;\n",
       "    }\n",
       "</style>\n",
       "<table border=\"1\" class=\"dataframe\">\n",
       "  <thead>\n",
       "    <tr style=\"text-align: right;\">\n",
       "      <th></th>\n",
       "      <th>OBJECTID</th>\n",
       "      <th>INCIDENT_TYPE</th>\n",
       "      <th>REPORT_TAKEN_DATE_EST</th>\n",
       "      <th>YEAR</th>\n",
       "      <th>DATA_TYPE</th>\n",
       "      <th>SUBJECT_RACE</th>\n",
       "      <th>SUBJECT_SEX</th>\n",
       "      <th>SUBJECT_ETHNICITY</th>\n",
       "      <th>BLOCK_ADDRESS</th>\n",
       "      <th>INCIDENT_LOCATION_DISTRICT</th>\n",
       "      <th>INCIDENT_LOCATION_PSA</th>\n",
       "      <th>AGE</th>\n",
       "    </tr>\n",
       "  </thead>\n",
       "  <tbody>\n",
       "    <tr>\n",
       "      <th>0</th>\n",
       "      <td>1</td>\n",
       "      <td>Stop &amp; Frisk</td>\n",
       "      <td>2010-02-05 23:04:00+00:00</td>\n",
       "      <td>2010</td>\n",
       "      <td>Person</td>\n",
       "      <td>Black</td>\n",
       "      <td>Female</td>\n",
       "      <td>Not Hispanic Or Latino</td>\n",
       "      <td>3500 B/O EAST CAPITOL ST NE</td>\n",
       "      <td>6D</td>\n",
       "      <td>603.0</td>\n",
       "      <td>Juvenile</td>\n",
       "    </tr>\n",
       "    <tr>\n",
       "      <th>1</th>\n",
       "      <td>2</td>\n",
       "      <td>Stop &amp; Frisk</td>\n",
       "      <td>2010-02-07 21:00:00+00:00</td>\n",
       "      <td>2010</td>\n",
       "      <td>Person</td>\n",
       "      <td>Black</td>\n",
       "      <td>Male</td>\n",
       "      <td>Not Hispanic Or Latino</td>\n",
       "      <td>5600 B/O 13TH ST NW</td>\n",
       "      <td>4D</td>\n",
       "      <td>403.0</td>\n",
       "      <td>Juvenile</td>\n",
       "    </tr>\n",
       "    <tr>\n",
       "      <th>2</th>\n",
       "      <td>3</td>\n",
       "      <td>Stop &amp; Frisk</td>\n",
       "      <td>2010-02-08 01:00:00+00:00</td>\n",
       "      <td>2010</td>\n",
       "      <td>Person</td>\n",
       "      <td>Black</td>\n",
       "      <td>Male</td>\n",
       "      <td>Not Hispanic Or Latino</td>\n",
       "      <td>1800 B/O BENNING RD NE</td>\n",
       "      <td>5D</td>\n",
       "      <td>507.0</td>\n",
       "      <td>25</td>\n",
       "    </tr>\n",
       "    <tr>\n",
       "      <th>3</th>\n",
       "      <td>4</td>\n",
       "      <td>Stop &amp; Frisk</td>\n",
       "      <td>2010-02-09 01:00:00+00:00</td>\n",
       "      <td>2010</td>\n",
       "      <td>Person</td>\n",
       "      <td>Black</td>\n",
       "      <td>Male</td>\n",
       "      <td>Not Hispanic Or Latino</td>\n",
       "      <td>1100 B/O CLIFTON ST NW</td>\n",
       "      <td>3D</td>\n",
       "      <td>304.0</td>\n",
       "      <td>Juvenile</td>\n",
       "    </tr>\n",
       "    <tr>\n",
       "      <th>4</th>\n",
       "      <td>5</td>\n",
       "      <td>Stop &amp; Frisk</td>\n",
       "      <td>2010-02-09 01:00:00+00:00</td>\n",
       "      <td>2010</td>\n",
       "      <td>Person</td>\n",
       "      <td>Black</td>\n",
       "      <td>Male</td>\n",
       "      <td>Not Hispanic Or Latino</td>\n",
       "      <td>1100 B/O CLIFTON ST NW</td>\n",
       "      <td>3D</td>\n",
       "      <td>304.0</td>\n",
       "      <td>Juvenile</td>\n",
       "    </tr>\n",
       "  </tbody>\n",
       "</table>\n",
       "</div>"
      ],
      "text/plain": [
       "   OBJECTID INCIDENT_TYPE     REPORT_TAKEN_DATE_EST  YEAR DATA_TYPE  \\\n",
       "0         1  Stop & Frisk 2010-02-05 23:04:00+00:00  2010    Person   \n",
       "1         2  Stop & Frisk 2010-02-07 21:00:00+00:00  2010    Person   \n",
       "2         3  Stop & Frisk 2010-02-08 01:00:00+00:00  2010    Person   \n",
       "3         4  Stop & Frisk 2010-02-09 01:00:00+00:00  2010    Person   \n",
       "4         5  Stop & Frisk 2010-02-09 01:00:00+00:00  2010    Person   \n",
       "\n",
       "  SUBJECT_RACE SUBJECT_SEX       SUBJECT_ETHNICITY  \\\n",
       "0        Black      Female  Not Hispanic Or Latino   \n",
       "1        Black        Male  Not Hispanic Or Latino   \n",
       "2        Black        Male  Not Hispanic Or Latino   \n",
       "3        Black        Male  Not Hispanic Or Latino   \n",
       "4        Black        Male  Not Hispanic Or Latino   \n",
       "\n",
       "                 BLOCK_ADDRESS INCIDENT_LOCATION_DISTRICT  \\\n",
       "0  3500 B/O EAST CAPITOL ST NE                         6D   \n",
       "1          5600 B/O 13TH ST NW                         4D   \n",
       "2       1800 B/O BENNING RD NE                         5D   \n",
       "3       1100 B/O CLIFTON ST NW                         3D   \n",
       "4       1100 B/O CLIFTON ST NW                         3D   \n",
       "\n",
       "   INCIDENT_LOCATION_PSA       AGE  \n",
       "0                  603.0  Juvenile  \n",
       "1                  403.0  Juvenile  \n",
       "2                  507.0        25  \n",
       "3                  304.0  Juvenile  \n",
       "4                  304.0  Juvenile  "
      ]
     },
     "execution_count": 1,
     "metadata": {},
     "output_type": "execute_result"
    }
   ],
   "source": [
    "import pandas as pd\n",
    "import numpy as np\n",
    "import matplotlib.pyplot as plt\n",
    "import seaborn as sns\n",
    "from datetime import datetime\n",
    "df_stop_incidents=pd.read_csv(\"C://Users//awele//Desktop//Aklilu_resume//DC_stop_incidents.csv\",parse_dates=['REPORT_TAKEN_DATE_EST'],dayfirst=True)\n",
    "df_stop_incidents.head()"
   ]
  },
  {
   "cell_type": "code",
   "execution_count": 2,
   "metadata": {},
   "outputs": [
    {
     "data": {
      "text/plain": [
       "(27559, 12)"
      ]
     },
     "execution_count": 2,
     "metadata": {},
     "output_type": "execute_result"
    }
   ],
   "source": [
    "## to check get the number of records\n",
    "df_stop_incidents.shape"
   ]
  },
  {
   "cell_type": "code",
   "execution_count": 3,
   "metadata": {},
   "outputs": [
    {
     "data": {
      "text/plain": [
       "Index(['OBJECTID', 'INCIDENT_TYPE', 'REPORT_TAKEN_DATE_EST', 'YEAR',\n",
       "       'DATA_TYPE', 'SUBJECT_RACE', 'SUBJECT_SEX', 'SUBJECT_ETHNICITY',\n",
       "       'BLOCK_ADDRESS', 'INCIDENT_LOCATION_DISTRICT', 'INCIDENT_LOCATION_PSA',\n",
       "       'AGE'],\n",
       "      dtype='object')"
      ]
     },
     "execution_count": 3,
     "metadata": {},
     "output_type": "execute_result"
    }
   ],
   "source": [
    "## list of columns\n",
    "df_stop_incidents.columns"
   ]
  },
  {
   "cell_type": "markdown",
   "metadata": {},
   "source": [
    "\n",
    "### Stop and frisk distribution with subject race"
   ]
  },
  {
   "cell_type": "code",
   "execution_count": 5,
   "metadata": {},
   "outputs": [
    {
     "data": {
      "text/plain": [
       "Black                                        22589\n",
       "Unknown                                       2687\n",
       "White                                         1656\n",
       "Asian                                           97\n",
       "American Indian Or Alaska Native                13\n",
       "Native Hawaiian Or Other Pacific Islander       11\n",
       "Name: SUBJECT_RACE, dtype: int64"
      ]
     },
     "execution_count": 5,
     "metadata": {},
     "output_type": "execute_result"
    }
   ],
   "source": [
    "df_stop_incidents.SUBJECT_RACE.value_counts()"
   ]
  },
  {
   "cell_type": "markdown",
   "metadata": {},
   "source": [
    "### stop and frisk distribution with subject race: count and percentage"
   ]
  },
  {
   "cell_type": "code",
   "execution_count": 6,
   "metadata": {},
   "outputs": [
    {
     "name": "stdout",
     "output_type": "stream",
     "text": [
      "                                           SUBJECT_RACE  SUBJECT_RACE\n",
      "Black                                             22589     83.499057\n",
      "Unknown                                            2687      9.932355\n",
      "White                                              1656      6.121317\n",
      "Asian                                                97      0.358555\n",
      "American Indian Or Alaska Native                     13      0.048054\n",
      "Native Hawaiian Or Other Pacific Islander            11      0.040661\n"
     ]
    }
   ],
   "source": [
    "print(pd.concat([df_stop_incidents.SUBJECT_RACE.value_counts(),(df_stop_incidents.SUBJECT_RACE.value_counts()/df_stop_incidents.SUBJECT_RACE.value_counts().sum())*100],axis=1))"
   ]
  },
  {
   "cell_type": "markdown",
   "metadata": {},
   "source": [
    "### Stop and frisk distribution a long the districs"
   ]
  },
  {
   "cell_type": "code",
   "execution_count": 8,
   "metadata": {},
   "outputs": [
    {
     "name": "stdout",
     "output_type": "stream",
     "text": [
      "    INCIDENT_LOCATION_DISTRICT  INCIDENT_LOCATION_DISTRICT\n",
      "6D                        4474                   16.429201\n",
      "7D                        4414                   16.208872\n",
      "1D                        4320                   15.863690\n",
      "3D                        3986                   14.637192\n",
      "5D                        3843                   14.112074\n",
      "4D                        3771                   13.847679\n",
      "2D                        2424                    8.901293\n"
     ]
    }
   ],
   "source": [
    "print(pd.concat([df_stop_incidents.INCIDENT_LOCATION_DISTRICT.value_counts(),\n",
    "(df_stop_incidents.INCIDENT_LOCATION_DISTRICT.value_counts()/df_stop_incidents.INCIDENT_LOCATION_DISTRICT.value_counts().sum())*100],axis=1))"
   ]
  },
  {
   "cell_type": "markdown",
   "metadata": {},
   "source": [
    "### Stop and frisk distribution for each gender"
   ]
  },
  {
   "cell_type": "code",
   "execution_count": 9,
   "metadata": {},
   "outputs": [
    {
     "name": "stdout",
     "output_type": "stream",
     "text": [
      "         SUBJECT_SEX  SUBJECT_SEX\n",
      "Male           23259    85.975677\n",
      "Female          2413     8.919528\n",
      "Unknown         1381     5.104794\n"
     ]
    }
   ],
   "source": [
    "print(pd.concat([df_stop_incidents.SUBJECT_SEX.value_counts(),\n",
    "(df_stop_incidents.SUBJECT_SEX.value_counts()/df_stop_incidents.SUBJECT_SEX.value_counts().sum())*100],axis=1))"
   ]
  },
  {
   "cell_type": "markdown",
   "metadata": {},
   "source": [
    "## stop and frisk distribution in subject ethinictcity"
   ]
  },
  {
   "cell_type": "code",
   "execution_count": null,
   "metadata": {},
   "outputs": [],
   "source": [
    "\n",
    "print(pd.concat([df_stop_incidents.SUBJECT_ETHNICITY.value_counts(),\n",
    "(df_stop_incidents.SUBJECT_ETHNICITY.value_counts()/df_stop_incidents.SUBJECT_ETHNICITY.value_counts().sum())*100],axis=1))"
   ]
  },
  {
   "cell_type": "code",
   "execution_count": 10,
   "metadata": {},
   "outputs": [],
   "source": [
    "## to create month variable from the date\n",
    "df_stop_incidents['month']=df_stop_incidents['REPORT_TAKEN_DATE_EST'].dt.month"
   ]
  },
  {
   "cell_type": "code",
   "execution_count": 12,
   "metadata": {},
   "outputs": [
    {
     "data": {
      "text/html": [
       "<div>\n",
       "<style scoped>\n",
       "    .dataframe tbody tr th:only-of-type {\n",
       "        vertical-align: middle;\n",
       "    }\n",
       "\n",
       "    .dataframe tbody tr th {\n",
       "        vertical-align: top;\n",
       "    }\n",
       "\n",
       "    .dataframe thead th {\n",
       "        text-align: right;\n",
       "    }\n",
       "</style>\n",
       "<table border=\"1\" class=\"dataframe\">\n",
       "  <thead>\n",
       "    <tr style=\"text-align: right;\">\n",
       "      <th></th>\n",
       "      <th>Count</th>\n",
       "    </tr>\n",
       "    <tr>\n",
       "      <th>YEAR</th>\n",
       "      <th></th>\n",
       "    </tr>\n",
       "  </thead>\n",
       "  <tbody>\n",
       "    <tr>\n",
       "      <th>2010</th>\n",
       "      <td>2990</td>\n",
       "    </tr>\n",
       "    <tr>\n",
       "      <th>2011</th>\n",
       "      <td>3375</td>\n",
       "    </tr>\n",
       "    <tr>\n",
       "      <th>2012</th>\n",
       "      <td>3202</td>\n",
       "    </tr>\n",
       "    <tr>\n",
       "      <th>2013</th>\n",
       "      <td>3339</td>\n",
       "    </tr>\n",
       "    <tr>\n",
       "      <th>2014</th>\n",
       "      <td>3480</td>\n",
       "    </tr>\n",
       "    <tr>\n",
       "      <th>2015</th>\n",
       "      <td>3197</td>\n",
       "    </tr>\n",
       "    <tr>\n",
       "      <th>2016</th>\n",
       "      <td>3742</td>\n",
       "    </tr>\n",
       "    <tr>\n",
       "      <th>2017</th>\n",
       "      <td>4234</td>\n",
       "    </tr>\n",
       "  </tbody>\n",
       "</table>\n",
       "</div>"
      ],
      "text/plain": [
       "      Count\n",
       "YEAR       \n",
       "2010   2990\n",
       "2011   3375\n",
       "2012   3202\n",
       "2013   3339\n",
       "2014   3480\n",
       "2015   3197\n",
       "2016   3742\n",
       "2017   4234"
      ]
     },
     "execution_count": 12,
     "metadata": {},
     "output_type": "execute_result"
    }
   ],
   "source": [
    "## distribution of subjects in each year \n",
    "df_sin=df_stop_incidents.YEAR.value_counts().to_frame()\n",
    "df_sin.rename(columns={\"YEAR\":'Count'},inplace=True)\n",
    "df_sin.index.name='YEAR'\n",
    "df_sin.sort_values('YEAR',inplace=True)\n",
    "df_sin"
   ]
  },
  {
   "cell_type": "code",
   "execution_count": 15,
   "metadata": {},
   "outputs": [
    {
     "data": {
      "image/png": "[encoded data removed]",
      "text/plain": [
       "<Figure size 864x432 with 1 Axes>"
      ]
     },
     "metadata": {
      "needs_background": "light"
     },
     "output_type": "display_data"
    }
   ],
   "source": [
    "# To plote a bar \n",
    "df_sin.plot(kind='bar', figsize=(12, 6),color='blue',rot=45)\n",
    "\n",
    "plt.xlabel('YEAR') # add to x-label to the plot\n",
    "plt.ylabel('Number of stop and frisk individual') # add y-label to the plot\n",
    "plt.title('Number of subjects for each year') # add title to the plot\n",
    "plt.show()"
   ]
  },
  {
   "cell_type": "code",
   "execution_count": 16,
   "metadata": {},
   "outputs": [],
   "source": [
    "## THE DISTRIBUTION OF MONTHS\n",
    "df_stop_incidents['month']=df_stop_incidents['REPORT_TAKEN_DATE_EST'].dt.month\n",
    "df_stop_month=df_stop_incidents.month.value_counts().to_frame()\n",
    "df_stop_month.rename(columns={\"month\":'Count'},inplace=True)\n",
    "df_stop_month.index.name='month'\n",
    "df_stop_month.sort_values('month',inplace=True)\n",
    "#df_stop_incidents[['month','OBJECTID']].groupby(['month']).max()\n",
    "df_stop_month\n",
    "month_num=[1, 2, 3, 4, 5, 6, 7, 8, 9, 10, 11, 12]\n",
    "month_w=['January','February','March','April','May','June','July','August','September','October','November','December']\n",
    "for i,j in zip(month_num,month_w):\n",
    "    df_stop_month['month_w']=month_w\n",
    "df_stop_month.set_index('month_w',inplace=True)"
   ]
  },
  {
   "cell_type": "code",
   "execution_count": 17,
   "metadata": {},
   "outputs": [
    {
     "data": {
      "image/png": "[encoded data removed]",
      "text/plain": [
       "<Figure size 864x432 with 1 Axes>"
      ]
     },
     "metadata": {
      "needs_background": "light"
     },
     "output_type": "display_data"
    }
   ],
   "source": [
    "# To plote a bar \n",
    "df_stop_month.plot(kind='bar', figsize=(12, 6),color='blue',rot=45)\n",
    "\n",
    "plt.xlabel('Month') # add to x-label to the plot\n",
    "plt.ylabel('Number of stop and frisk individual') # add y-label to the plot\n",
    "#plt.xticks([1, 2, 3, 4, 5, 6, 7, 8, 9, 10, 11, 12],['January','February','March','April','May','June','July','August','September','October','November','December'],ha='center')\n",
    "plt.title('Number of victums(comulatrive) for each month of the whole years:2010-2017') # add title to the plot\n",
    "plt.show()"
   ]
  },
  {
   "cell_type": "code",
   "execution_count": null,
   "metadata": {},
   "outputs": [],
   "source": []
  }
 ],
 "metadata": {
  "kernelspec": {
   "display_name": "Python 3",
   "language": "python",
   "name": "python3"
  },
  "language_info": {
   "codemirror_mode": {
    "name": "ipython",
    "version": 3
   },
   "file_extension": ".py",
   "mimetype": "text/x-python",
   "name": "python",
   "nbconvert_exporter": "python",
   "pygments_lexer": "ipython3",
   "version": "3.6.7"
  }
 },
 "nbformat": 4,
 "nbformat_minor": 2
}
